{
 "cells": [
  {
   "cell_type": "markdown",
   "id": "2a969059",
   "metadata": {},
   "source": [
    "Udacity Data Scientist Nanodegree Project 1: Working through the CRISP-DM process\n",
    "===============\n",
    "\n",
    "# Introduction\n",
    "The CRISP-DM or cross-industry standard process for data mining process is an open process model that allows us to carry out data mining using defined and systematic steps. This method was proven to be efficient while using data to provide insight and offer solutions for businesses.\n",
    "\n",
    "This process comprises of six major phases that we will work through here:\n",
    "- Business Understanding\n",
    "- Data Understanding\n",
    "- Data Preparation\n",
    "- Modeling\n",
    "- Evaluation\n",
    "- Deployment\n",
    "\n",
    "In the case of the Udacity Project here, we had to select a dataset before starting the CRISP-DM process. I decided to work with the Stackoverflow surveys data from 2019 to 2022."
   ]
  },
  {
   "cell_type": "code",
   "execution_count": null,
   "id": "8cffeaf2",
   "metadata": {},
   "outputs": [],
   "source": [
    "# Business Understanding\n"
   ]
  },
  {
   "cell_type": "code",
   "execution_count": null,
   "id": "d98c76a6",
   "metadata": {},
   "outputs": [],
   "source": [
    "# Data Understanding"
   ]
  },
  {
   "cell_type": "code",
   "execution_count": null,
   "id": "ea5dccb3",
   "metadata": {},
   "outputs": [],
   "source": [
    "# Data Preparation"
   ]
  },
  {
   "cell_type": "code",
   "execution_count": null,
   "id": "54f2a07d",
   "metadata": {},
   "outputs": [],
   "source": [
    "# Modeling"
   ]
  },
  {
   "cell_type": "code",
   "execution_count": null,
   "id": "dcb00034",
   "metadata": {},
   "outputs": [],
   "source": [
    "# Evaluation"
   ]
  },
  {
   "cell_type": "code",
   "execution_count": null,
   "id": "cba74e20",
   "metadata": {},
   "outputs": [],
   "source": [
    "# Deployment\n"
   ]
  },
  {
   "cell_type": "code",
   "execution_count": null,
   "id": "df6a1395",
   "metadata": {},
   "outputs": [],
   "source": []
  },
  {
   "cell_type": "markdown",
   "id": "a7aab606",
   "metadata": {},
   "source": [
    "Resources used for this project:\n",
    "- https://medium.com/towards-data-science/crisp-dm-methodology-for-your-first-data-science-project-769f35e0346c \n",
    "- https://en.wikipedia.org/wiki/Cross-industry_standard_process_for_data_mining"
   ]
  }
 ],
 "metadata": {
  "kernelspec": {
   "display_name": "Python 3 (ipykernel)",
   "language": "python",
   "name": "python3"
  },
  "language_info": {
   "codemirror_mode": {
    "name": "ipython",
    "version": 3
   },
   "file_extension": ".py",
   "mimetype": "text/x-python",
   "name": "python",
   "nbconvert_exporter": "python",
   "pygments_lexer": "ipython3",
   "version": "3.9.13"
  }
 },
 "nbformat": 4,
 "nbformat_minor": 5
}
