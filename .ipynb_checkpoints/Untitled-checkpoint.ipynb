{
 "cells": [
  {
   "cell_type": "markdown",
   "id": "e760a8f6",
   "metadata": {},
   "source": [
    "Udacity Data Scientist Nanodegree Project 1: Working through the CRISP-DM process\n",
    "===============\n",
    "\n",
    "# Catchy title\n",
    "\n",
    "\n",
    "# Introduction\n",
    "The CRISP-DM or cross-industry standard process for data mining process is an open process model that allows us to carry out data mining using defined and systematic steps. This method was proven to be efficient while using data to provide insight and offer solutions for businesses.\n",
    "\n",
    "This process comprises of six major phases that we will work through here:\n",
    "- Business Understanding\n",
    "- Data Understanding\n",
    "- Data Preparation\n",
    "- Modeling\n",
    "- Evaluation\n",
    "- Deployment\n",
    "\n",
    "In the case of the Udacity Project here, we had to select a dataset before starting the CRISP-DM process. I decided to work with the Stackoverflow surveys data in 2021 and 2022"
   ]
  },
  {
   "cell_type": "code",
   "execution_count": 1,
   "id": "b7d3b823",
   "metadata": {},
   "outputs": [],
   "source": [
    "import numpy as np\n",
    "import pandas as pd\n",
    "import matplotlib.pyplot as plt\n",
    "import seaborn as sns\n",
    "from IPython import display\n",
    "%matplotlib inline\n",
    "\n",
    "df2022 = pd.read_csv('./survey_results_public2022.csv')\n",
    "df2021 = pd.read_csv('./survey_results_public2021.csv')"
   ]
  },
  {
   "cell_type": "code",
   "execution_count": 2,
   "id": "60ff0c47",
   "metadata": {},
   "outputs": [
    {
     "data": {
      "text/plain": [
       "((83439, 48), (73268, 79))"
      ]
     },
     "execution_count": 2,
     "metadata": {},
     "output_type": "execute_result"
    }
   ],
   "source": [
    "df2021.shape,df2022.shape\n"
   ]
  },
  {
   "cell_type": "code",
   "execution_count": null,
   "id": "6b9cc930",
   "metadata": {},
   "outputs": [],
   "source": []
  },
  {
   "cell_type": "code",
   "execution_count": null,
   "id": "8540519d",
   "metadata": {},
   "outputs": [],
   "source": []
  },
  {
   "cell_type": "code",
   "execution_count": 3,
   "id": "074ff5eb",
   "metadata": {},
   "outputs": [
    {
     "data": {
      "text/plain": [
       "Index(['ResponseId', 'MainBranch', 'Employment', 'Country', 'US_State',\n",
       "       'UK_Country', 'EdLevel', 'Age1stCode', 'LearnCode', 'YearsCode',\n",
       "       'YearsCodePro', 'DevType', 'OrgSize', 'Currency', 'CompTotal',\n",
       "       'CompFreq', 'LanguageHaveWorkedWith', 'LanguageWantToWorkWith',\n",
       "       'DatabaseHaveWorkedWith', 'DatabaseWantToWorkWith',\n",
       "       'PlatformHaveWorkedWith', 'PlatformWantToWorkWith',\n",
       "       'WebframeHaveWorkedWith', 'WebframeWantToWorkWith',\n",
       "       'MiscTechHaveWorkedWith', 'MiscTechWantToWorkWith',\n",
       "       'ToolsTechHaveWorkedWith', 'ToolsTechWantToWorkWith',\n",
       "       'NEWCollabToolsHaveWorkedWith', 'NEWCollabToolsWantToWorkWith', 'OpSys',\n",
       "       'NEWStuck', 'NEWSOSites', 'SOVisitFreq', 'SOAccount', 'SOPartFreq',\n",
       "       'SOComm', 'NEWOtherComms', 'Age', 'Gender', 'Trans', 'Sexuality',\n",
       "       'Ethnicity', 'Accessibility', 'MentalHealth', 'SurveyLength',\n",
       "       'SurveyEase', 'ConvertedCompYearly'],\n",
       "      dtype='object')"
      ]
     },
     "execution_count": 3,
     "metadata": {},
     "output_type": "execute_result"
    }
   ],
   "source": [
    "df2021.columns"
   ]
  },
  {
   "cell_type": "code",
   "execution_count": 4,
   "id": "80abfe21",
   "metadata": {},
   "outputs": [
    {
     "data": {
      "text/plain": [
       "Index(['ResponseId', 'MainBranch', 'Employment', 'RemoteWork',\n",
       "       'CodingActivities', 'EdLevel', 'LearnCode', 'LearnCodeOnline',\n",
       "       'LearnCodeCoursesCert', 'YearsCode', 'YearsCodePro', 'DevType',\n",
       "       'OrgSize', 'PurchaseInfluence', 'BuyNewTool', 'Country', 'Currency',\n",
       "       'CompTotal', 'CompFreq', 'LanguageHaveWorkedWith',\n",
       "       'LanguageWantToWorkWith', 'DatabaseHaveWorkedWith',\n",
       "       'DatabaseWantToWorkWith', 'PlatformHaveWorkedWith',\n",
       "       'PlatformWantToWorkWith', 'WebframeHaveWorkedWith',\n",
       "       'WebframeWantToWorkWith', 'MiscTechHaveWorkedWith',\n",
       "       'MiscTechWantToWorkWith', 'ToolsTechHaveWorkedWith',\n",
       "       'ToolsTechWantToWorkWith', 'NEWCollabToolsHaveWorkedWith',\n",
       "       'NEWCollabToolsWantToWorkWith', 'OpSysProfessional use',\n",
       "       'OpSysPersonal use', 'VersionControlSystem', 'VCInteraction',\n",
       "       'VCHostingPersonal use', 'VCHostingProfessional use',\n",
       "       'OfficeStackAsyncHaveWorkedWith', 'OfficeStackAsyncWantToWorkWith',\n",
       "       'OfficeStackSyncHaveWorkedWith', 'OfficeStackSyncWantToWorkWith',\n",
       "       'Blockchain', 'NEWSOSites', 'SOVisitFreq', 'SOAccount', 'SOPartFreq',\n",
       "       'SOComm', 'Age', 'Gender', 'Trans', 'Sexuality', 'Ethnicity',\n",
       "       'Accessibility', 'MentalHealth', 'TBranch', 'ICorPM', 'WorkExp',\n",
       "       'Knowledge_1', 'Knowledge_2', 'Knowledge_3', 'Knowledge_4',\n",
       "       'Knowledge_5', 'Knowledge_6', 'Knowledge_7', 'Frequency_1',\n",
       "       'Frequency_2', 'Frequency_3', 'TimeSearching', 'TimeAnswering',\n",
       "       'Onboarding', 'ProfessionalTech', 'TrueFalse_1', 'TrueFalse_2',\n",
       "       'TrueFalse_3', 'SurveyLength', 'SurveyEase', 'ConvertedCompYearly'],\n",
       "      dtype='object')"
      ]
     },
     "execution_count": 4,
     "metadata": {},
     "output_type": "execute_result"
    }
   ],
   "source": [
    "df2022.columns"
   ]
  },
  {
   "cell_type": "code",
   "execution_count": null,
   "id": "2920822e",
   "metadata": {},
   "outputs": [],
   "source": [
    "\n"
   ]
  },
  {
   "cell_type": "code",
   "execution_count": null,
   "id": "d7853e8d",
   "metadata": {},
   "outputs": [],
   "source": []
  },
  {
   "cell_type": "code",
   "execution_count": null,
   "id": "cc8e3619",
   "metadata": {},
   "outputs": [],
   "source": []
  },
  {
   "cell_type": "code",
   "execution_count": null,
   "id": "29cbc1ed",
   "metadata": {},
   "outputs": [],
   "source": []
  },
  {
   "cell_type": "code",
   "execution_count": null,
   "id": "bcb3711a",
   "metadata": {},
   "outputs": [],
   "source": [
    "Question 1: What platforms were on demand over the past 4 years?"
   ]
  },
  {
   "cell_type": "code",
   "execution_count": null,
   "id": "9b1232e5",
   "metadata": {},
   "outputs": [],
   "source": [
    "\n"
   ]
  },
  {
   "cell_type": "code",
   "execution_count": null,
   "id": "04f4f3f0",
   "metadata": {},
   "outputs": [],
   "source": []
  },
  {
   "cell_type": "code",
   "execution_count": 5,
   "id": "66f0f0b7",
   "metadata": {},
   "outputs": [
    {
     "name": "stdout",
     "output_type": "stream",
     "text": [
      "<class 'pandas.core.frame.DataFrame'>\n",
      "RangeIndex: 83439 entries, 0 to 83438\n",
      "Data columns (total 4 columns):\n",
      " #   Column                  Non-Null Count  Dtype \n",
      "---  ------                  --------------  ----- \n",
      " 0   MainBranch              83439 non-null  object\n",
      " 1   DevType                 66484 non-null  object\n",
      " 2   PlatformHaveWorkedWith  52135 non-null  object\n",
      " 3   PlatformWantToWorkWith  41619 non-null  object\n",
      "dtypes: object(4)\n",
      "memory usage: 2.5+ MB\n"
     ]
    }
   ],
   "source": [
    "df2021_1= df2021[['MainBranch','DevType', 'PlatformHaveWorkedWith', 'PlatformWantToWorkWith']]\n",
    "df2021_1.info()"
   ]
  },
  {
   "cell_type": "code",
   "execution_count": 6,
   "id": "804faf81",
   "metadata": {},
   "outputs": [
    {
     "name": "stdout",
     "output_type": "stream",
     "text": [
      "<class 'pandas.core.frame.DataFrame'>\n",
      "RangeIndex: 73268 entries, 0 to 73267\n",
      "Data columns (total 4 columns):\n",
      " #   Column                  Non-Null Count  Dtype \n",
      "---  ------                  --------------  ----- \n",
      " 0   MainBranch              73268 non-null  object\n",
      " 1   DevType                 61302 non-null  object\n",
      " 2   PlatformHaveWorkedWith  49924 non-null  object\n",
      " 3   PlatformWantToWorkWith  40415 non-null  object\n",
      "dtypes: object(4)\n",
      "memory usage: 2.2+ MB\n"
     ]
    }
   ],
   "source": [
    "df2022_1= df2022[['MainBranch','DevType', 'PlatformHaveWorkedWith',\n",
    "       'PlatformWantToWorkWith']]\n",
    "\n",
    "df2022_1.info()"
   ]
  },
  {
   "cell_type": "code",
   "execution_count": 149,
   "id": "215459c0",
   "metadata": {},
   "outputs": [
    {
     "data": {
      "text/plain": [
       "(49924,)"
      ]
     },
     "execution_count": 149,
     "metadata": {},
     "output_type": "execute_result"
    }
   ],
   "source": [
    "df2022_1['PlatformHaveWorkedWith'].dropna().shape"
   ]
  },
  {
   "cell_type": "code",
   "execution_count": null,
   "id": "9e158eb3",
   "metadata": {},
   "outputs": [],
   "source": []
  },
  {
   "cell_type": "code",
   "execution_count": null,
   "id": "71dad847",
   "metadata": {},
   "outputs": [],
   "source": []
  },
  {
   "cell_type": "code",
   "execution_count": 7,
   "id": "4ea72ee1",
   "metadata": {},
   "outputs": [
    {
     "data": {
      "text/plain": [
       "AWS                                                                                              11454\n",
       "Microsoft Azure                                                                                   6660\n",
       "Google Cloud Platform                                                                             4654\n",
       "Heroku                                                                                            3865\n",
       "AWS;Google Cloud Platform                                                                         3116\n",
       "                                                                                                 ...  \n",
       "AWS;Google Cloud Platform;Heroku;IBM Cloud or Watson;Oracle Cloud Infrastructure                     1\n",
       "AWS;DigitalOcean;Google Cloud Platform;Heroku;IBM Cloud or Watson;Oracle Cloud Infrastructure        1\n",
       "DigitalOcean;Google Cloud Platform;Heroku;Microsoft Azure;Oracle Cloud Infrastructure                1\n",
       "DigitalOcean;IBM Cloud or Watson;Microsoft Azure;Oracle Cloud Infrastructure                         1\n",
       "DigitalOcean;Heroku;IBM Cloud or Watson;Oracle Cloud Infrastructure                                  1\n",
       "Name: PlatformHaveWorkedWith, Length: 118, dtype: int64"
      ]
     },
     "execution_count": 7,
     "metadata": {},
     "output_type": "execute_result"
    }
   ],
   "source": [
    "df2021_1['PlatformHaveWorkedWith'].value_counts()"
   ]
  },
  {
   "cell_type": "code",
   "execution_count": 8,
   "id": "1e9867c4",
   "metadata": {},
   "outputs": [
    {
     "data": {
      "text/plain": [
       "AWS                                                                                                                                     8719\n",
       "Microsoft Azure                                                                                                                         4989\n",
       "Google Cloud                                                                                                                            2306\n",
       "AWS;Microsoft Azure                                                                                                                     2039\n",
       "Heroku                                                                                                                                  2003\n",
       "                                                                                                                                        ... \n",
       "AWS;Colocation;Firebase;Google Cloud;IBM Cloud or Watson;OpenStack;VMware                                                                  1\n",
       "Firebase;Google Cloud;Heroku;Linode;Managed Hosting;Microsoft Azure                                                                        1\n",
       "AWS;DigitalOcean;Firebase;Google Cloud;Heroku;IBM Cloud or Watson;Managed Hosting;Microsoft Azure;Oracle Cloud Infrastructure;VMware       1\n",
       "AWS;DigitalOcean;Firebase;Google Cloud;IBM Cloud or Watson;Oracle Cloud Infrastructure;OpenStack;VMware                                    1\n",
       "Colocation;DigitalOcean;Heroku;Linode;Oracle Cloud Infrastructure;OVH                                                                      1\n",
       "Name: PlatformHaveWorkedWith, Length: 1500, dtype: int64"
      ]
     },
     "execution_count": 8,
     "metadata": {},
     "output_type": "execute_result"
    }
   ],
   "source": [
    "df2022_1['PlatformHaveWorkedWith'].value_counts()"
   ]
  },
  {
   "cell_type": "markdown",
   "id": "5857ee9e",
   "metadata": {},
   "source": [
    "I need to explode the values from the Platform column to obtain counts for individual values"
   ]
  },
  {
   "cell_type": "code",
   "execution_count": 9,
   "id": "2ee3b087",
   "metadata": {},
   "outputs": [],
   "source": [
    "#explode() platform currently working on for each year\n",
    "df2021_explode_currentplatforms = df2021.assign(platforms=df2021.PlatformHaveWorkedWith.str.split(';')).explode('platforms').reset_index(drop=True)\n",
    "df2022_explode_currentplatforms = df2022.assign(platforms=df2022.PlatformHaveWorkedWith.str.split(';')).explode('platforms').reset_index(drop=True)\n",
    "\n",
    "\n",
    "#explode() platform want to work on\n",
    "df2021_explode_wantplatforms = df2021.assign(platforms=df2021.PlatformWantToWorkWith.str.split(';')).explode('platforms').reset_index(drop=True)\n",
    "df2022_explode_wantplatforms = df2022.assign(platforms=df2022.PlatformWantToWorkWith.str.split(';')).explode('platforms').reset_index(drop=True)\n"
   ]
  },
  {
   "cell_type": "markdown",
   "id": "8799ca2f",
   "metadata": {},
   "source": [
    "Now that I have separated all values from the platform columns, I will calculate the proportion of each platform mentioned for each dataframe and prepare a new dataframe with columns: platform, want proportion, is proportion, year"
   ]
  },
  {
   "cell_type": "code",
   "execution_count": 193,
   "id": "86b2716a",
   "metadata": {},
   "outputs": [
    {
     "data": {
      "text/html": [
       "<div>\n",
       "<style scoped>\n",
       "    .dataframe tbody tr th:only-of-type {\n",
       "        vertical-align: middle;\n",
       "    }\n",
       "\n",
       "    .dataframe tbody tr th {\n",
       "        vertical-align: top;\n",
       "    }\n",
       "\n",
       "    .dataframe thead th {\n",
       "        text-align: right;\n",
       "    }\n",
       "</style>\n",
       "<table border=\"1\" class=\"dataframe\">\n",
       "  <thead>\n",
       "    <tr style=\"text-align: right;\">\n",
       "      <th></th>\n",
       "      <th>is</th>\n",
       "      <th>platform</th>\n",
       "    </tr>\n",
       "  </thead>\n",
       "  <tbody>\n",
       "    <tr>\n",
       "      <th>AWS</th>\n",
       "      <td>0.558895</td>\n",
       "      <td>AWS</td>\n",
       "    </tr>\n",
       "    <tr>\n",
       "      <th>Google Cloud Platform</th>\n",
       "      <td>0.320073</td>\n",
       "      <td>Google Cloud Platform</td>\n",
       "    </tr>\n",
       "    <tr>\n",
       "      <th>Microsoft Azure</th>\n",
       "      <td>0.317253</td>\n",
       "      <td>Microsoft Azure</td>\n",
       "    </tr>\n",
       "    <tr>\n",
       "      <th>Heroku</th>\n",
       "      <td>0.247377</td>\n",
       "      <td>Heroku</td>\n",
       "    </tr>\n",
       "    <tr>\n",
       "      <th>DigitalOcean</th>\n",
       "      <td>0.182123</td>\n",
       "      <td>DigitalOcean</td>\n",
       "    </tr>\n",
       "  </tbody>\n",
       "</table>\n",
       "</div>"
      ],
      "text/plain": [
       "                             is               platform\n",
       "AWS                    0.558895                    AWS\n",
       "Google Cloud Platform  0.320073  Google Cloud Platform\n",
       "Microsoft Azure        0.317253        Microsoft Azure\n",
       "Heroku                 0.247377                 Heroku\n",
       "DigitalOcean           0.182123           DigitalOcean"
      ]
     },
     "execution_count": 193,
     "metadata": {},
     "output_type": "execute_result"
    }
   ],
   "source": [
    "#is 2021 proportions - count all values for each platform and divide by the number of participants who answered this question\n",
    "prop_current2021=df2021_explode_currentplatforms['platforms'].value_counts()/df2021_1['PlatformHaveWorkedWith'].dropna().shape[0]\n",
    "\n",
    "#formatting to dataframe\n",
    "propC2021_df=prop_current2021.to_frame()\n",
    "propC2021_df['platform'] = list(propC2021_df.index) #moving platform from index to a column\n",
    "propC2021_df.rename(columns = {'platforms':'is'}, inplace = True) #rename column for later new dataframe\n",
    "propC2021_df.head()\n"
   ]
  },
  {
   "cell_type": "code",
   "execution_count": 194,
   "id": "9bf85b9c",
   "metadata": {},
   "outputs": [
    {
     "data": {
      "text/html": [
       "<div>\n",
       "<style scoped>\n",
       "    .dataframe tbody tr th:only-of-type {\n",
       "        vertical-align: middle;\n",
       "    }\n",
       "\n",
       "    .dataframe tbody tr th {\n",
       "        vertical-align: top;\n",
       "    }\n",
       "\n",
       "    .dataframe thead th {\n",
       "        text-align: right;\n",
       "    }\n",
       "</style>\n",
       "<table border=\"1\" class=\"dataframe\">\n",
       "  <thead>\n",
       "    <tr style=\"text-align: right;\">\n",
       "      <th></th>\n",
       "      <th>want</th>\n",
       "      <th>platform</th>\n",
       "    </tr>\n",
       "  </thead>\n",
       "  <tbody>\n",
       "    <tr>\n",
       "      <th>AWS</th>\n",
       "      <td>0.631803</td>\n",
       "      <td>AWS</td>\n",
       "    </tr>\n",
       "    <tr>\n",
       "      <th>Google Cloud Platform</th>\n",
       "      <td>0.389918</td>\n",
       "      <td>Google Cloud Platform</td>\n",
       "    </tr>\n",
       "    <tr>\n",
       "      <th>Microsoft Azure</th>\n",
       "      <td>0.362719</td>\n",
       "      <td>Microsoft Azure</td>\n",
       "    </tr>\n",
       "    <tr>\n",
       "      <th>DigitalOcean</th>\n",
       "      <td>0.208414</td>\n",
       "      <td>DigitalOcean</td>\n",
       "    </tr>\n",
       "    <tr>\n",
       "      <th>Heroku</th>\n",
       "      <td>0.196593</td>\n",
       "      <td>Heroku</td>\n",
       "    </tr>\n",
       "  </tbody>\n",
       "</table>\n",
       "</div>"
      ],
      "text/plain": [
       "                           want               platform\n",
       "AWS                    0.631803                    AWS\n",
       "Google Cloud Platform  0.389918  Google Cloud Platform\n",
       "Microsoft Azure        0.362719        Microsoft Azure\n",
       "DigitalOcean           0.208414           DigitalOcean\n",
       "Heroku                 0.196593                 Heroku"
      ]
     },
     "execution_count": 194,
     "metadata": {},
     "output_type": "execute_result"
    }
   ],
   "source": [
    "# same steps with want 2021 proportions\n",
    "prop_want2021=df2021_explode_wantplatforms['platforms'].value_counts()/df2021_1['PlatformWantToWorkWith'].dropna().shape[0]\n",
    "propW2021_df=prop_want2021.to_frame()\n",
    "propW2021_df['platform'] = list(propW2021_df.index)\n",
    "propW2021_df.rename(columns = {'platforms':'want'}, inplace = True)\n",
    "propW2021_df.head()"
   ]
  },
  {
   "cell_type": "code",
   "execution_count": 195,
   "id": "bf462858",
   "metadata": {},
   "outputs": [
    {
     "data": {
      "text/html": [
       "<div>\n",
       "<style scoped>\n",
       "    .dataframe tbody tr th:only-of-type {\n",
       "        vertical-align: middle;\n",
       "    }\n",
       "\n",
       "    .dataframe tbody tr th {\n",
       "        vertical-align: top;\n",
       "    }\n",
       "\n",
       "    .dataframe thead th {\n",
       "        text-align: right;\n",
       "    }\n",
       "</style>\n",
       "<table border=\"1\" class=\"dataframe\">\n",
       "  <thead>\n",
       "    <tr style=\"text-align: right;\">\n",
       "      <th></th>\n",
       "      <th>is</th>\n",
       "      <th>platform</th>\n",
       "      <th>want</th>\n",
       "    </tr>\n",
       "  </thead>\n",
       "  <tbody>\n",
       "    <tr>\n",
       "      <th>0</th>\n",
       "      <td>0.558895</td>\n",
       "      <td>AWS</td>\n",
       "      <td>0.631803</td>\n",
       "    </tr>\n",
       "    <tr>\n",
       "      <th>1</th>\n",
       "      <td>0.320073</td>\n",
       "      <td>Google Cloud Platform</td>\n",
       "      <td>0.389918</td>\n",
       "    </tr>\n",
       "    <tr>\n",
       "      <th>2</th>\n",
       "      <td>0.317253</td>\n",
       "      <td>Microsoft Azure</td>\n",
       "      <td>0.362719</td>\n",
       "    </tr>\n",
       "    <tr>\n",
       "      <th>3</th>\n",
       "      <td>0.247377</td>\n",
       "      <td>Heroku</td>\n",
       "      <td>0.196593</td>\n",
       "    </tr>\n",
       "    <tr>\n",
       "      <th>4</th>\n",
       "      <td>0.182123</td>\n",
       "      <td>DigitalOcean</td>\n",
       "      <td>0.208414</td>\n",
       "    </tr>\n",
       "  </tbody>\n",
       "</table>\n",
       "</div>"
      ],
      "text/plain": [
       "         is               platform      want\n",
       "0  0.558895                    AWS  0.631803\n",
       "1  0.320073  Google Cloud Platform  0.389918\n",
       "2  0.317253        Microsoft Azure  0.362719\n",
       "3  0.247377                 Heroku  0.196593\n",
       "4  0.182123           DigitalOcean  0.208414"
      ]
     },
     "execution_count": 195,
     "metadata": {},
     "output_type": "execute_result"
    }
   ],
   "source": [
    "# merging both dataframes by platform \n",
    "platforms2021 = propC2021_df.merge(propW2021_df, on=['platform'])\n",
    "platforms2021.head()"
   ]
  },
  {
   "cell_type": "code",
   "execution_count": null,
   "id": "adafe698",
   "metadata": {},
   "outputs": [],
   "source": []
  },
  {
   "cell_type": "code",
   "execution_count": null,
   "id": "a1e4c388",
   "metadata": {},
   "outputs": [],
   "source": []
  },
  {
   "cell_type": "code",
   "execution_count": 196,
   "id": "e1abba8e",
   "metadata": {},
   "outputs": [],
   "source": [
    "#same preparation steps for proportion for 2022 data\n",
    "prop_current2022=df2022_explode_currentplatforms['platforms'].value_counts()/df2022_1['PlatformHaveWorkedWith'].dropna().shape[0]\n",
    "propC2022_df=prop_current2022.to_frame()\n",
    "propC2022_df['platform'] = list(propC2022_df.index)\n",
    "propC2022_df.rename(columns = {'platforms':'is'}, inplace = True)\n",
    "\n",
    "prop_want2022=df2022_explode_wantplatforms['platforms'].value_counts()/df2022_1['PlatformWantToWorkWith'].dropna().shape[0]\n",
    "propW2022_df=prop_want2022.to_frame()\n",
    "propW2022_df['platform'] = list(propW2022_df.index)\n",
    "propW2022_df.rename(columns = {'platforms':'want'}, inplace = True)"
   ]
  },
  {
   "cell_type": "code",
   "execution_count": 197,
   "id": "ebdfc18b",
   "metadata": {},
   "outputs": [
    {
     "data": {
      "text/html": [
       "<div>\n",
       "<style scoped>\n",
       "    .dataframe tbody tr th:only-of-type {\n",
       "        vertical-align: middle;\n",
       "    }\n",
       "\n",
       "    .dataframe tbody tr th {\n",
       "        vertical-align: top;\n",
       "    }\n",
       "\n",
       "    .dataframe thead th {\n",
       "        text-align: right;\n",
       "    }\n",
       "</style>\n",
       "<table border=\"1\" class=\"dataframe\">\n",
       "  <thead>\n",
       "    <tr style=\"text-align: right;\">\n",
       "      <th></th>\n",
       "      <th>is</th>\n",
       "      <th>platform</th>\n",
       "      <th>want</th>\n",
       "    </tr>\n",
       "  </thead>\n",
       "  <tbody>\n",
       "    <tr>\n",
       "      <th>0</th>\n",
       "      <td>0.519570</td>\n",
       "      <td>AWS</td>\n",
       "      <td>0.586441</td>\n",
       "    </tr>\n",
       "    <tr>\n",
       "      <th>1</th>\n",
       "      <td>0.292525</td>\n",
       "      <td>Microsoft Azure</td>\n",
       "      <td>0.316343</td>\n",
       "    </tr>\n",
       "    <tr>\n",
       "      <th>2</th>\n",
       "      <td>0.273095</td>\n",
       "      <td>Google Cloud</td>\n",
       "      <td>0.331412</td>\n",
       "    </tr>\n",
       "    <tr>\n",
       "      <th>3</th>\n",
       "      <td>0.215347</td>\n",
       "      <td>Firebase</td>\n",
       "      <td>0.213856</td>\n",
       "    </tr>\n",
       "    <tr>\n",
       "      <th>4</th>\n",
       "      <td>0.203509</td>\n",
       "      <td>Heroku</td>\n",
       "      <td>0.147247</td>\n",
       "    </tr>\n",
       "  </tbody>\n",
       "</table>\n",
       "</div>"
      ],
      "text/plain": [
       "         is         platform      want\n",
       "0  0.519570              AWS  0.586441\n",
       "1  0.292525  Microsoft Azure  0.316343\n",
       "2  0.273095     Google Cloud  0.331412\n",
       "3  0.215347         Firebase  0.213856\n",
       "4  0.203509           Heroku  0.147247"
      ]
     },
     "execution_count": 197,
     "metadata": {},
     "output_type": "execute_result"
    }
   ],
   "source": [
    "# merging both dataframes by platform  2022\n",
    "platforms2022 = propC2022_df.merge(propW2022_df, on=['platform'])\n",
    "platforms2022.head()"
   ]
  },
  {
   "cell_type": "code",
   "execution_count": 215,
   "id": "88f46ed4",
   "metadata": {},
   "outputs": [],
   "source": [
    "#now I am combining both dataframes\n",
    "platforms2021['year']=2021\n",
    "platforms2022['year']=2022\n",
    "\n",
    "data = [platforms2022, platforms2021]\n",
    "platforms = pd.concat(data)\n",
    "\n",
    "platforms['ratio']=(platforms['want']/platforms['is'])-1"
   ]
  },
  {
   "cell_type": "code",
   "execution_count": 224,
   "id": "01efa5fc",
   "metadata": {},
   "outputs": [
    {
     "data": {
      "text/plain": [
       "<AxesSubplot:xlabel='platform', ylabel='is'>"
      ]
     },
     "execution_count": 224,
     "metadata": {},
     "output_type": "execute_result"
    },
    {
     "data": {
      "image/png": "[encoded data removed]",
      "text/plain": [
       "<Figure size 640x480 with 1 Axes>"
      ]
     },
     "metadata": {},
     "output_type": "display_data"
    }
   ],
   "source": [
    "sns.scatterplot(y='is', x='platform', data=platforms, size='ratio', hue='year')"
   ]
  },
  {
   "cell_type": "code",
   "execution_count": null,
   "id": "a35313d9",
   "metadata": {},
   "outputs": [],
   "source": []
  },
  {
   "cell_type": "code",
   "execution_count": null,
   "id": "f8ac73e0",
   "metadata": {},
   "outputs": [],
   "source": []
  },
  {
   "cell_type": "code",
   "execution_count": null,
   "id": "84e26955",
   "metadata": {},
   "outputs": [],
   "source": []
  },
  {
   "cell_type": "code",
   "execution_count": 178,
   "id": "06965b90",
   "metadata": {},
   "outputs": [
    {
     "data": {
      "text/html": [
       "<div>\n",
       "<style scoped>\n",
       "    .dataframe tbody tr th:only-of-type {\n",
       "        vertical-align: middle;\n",
       "    }\n",
       "\n",
       "    .dataframe tbody tr th {\n",
       "        vertical-align: top;\n",
       "    }\n",
       "\n",
       "    .dataframe thead th {\n",
       "        text-align: right;\n",
       "    }\n",
       "</style>\n",
       "<table border=\"1\" class=\"dataframe\">\n",
       "  <thead>\n",
       "    <tr style=\"text-align: right;\">\n",
       "      <th></th>\n",
       "      <th>is2022</th>\n",
       "      <th>platform</th>\n",
       "    </tr>\n",
       "  </thead>\n",
       "  <tbody>\n",
       "    <tr>\n",
       "      <th>AWS</th>\n",
       "      <td>0.519570</td>\n",
       "      <td>AWS</td>\n",
       "    </tr>\n",
       "    <tr>\n",
       "      <th>Microsoft Azure</th>\n",
       "      <td>0.292525</td>\n",
       "      <td>Microsoft Azure</td>\n",
       "    </tr>\n",
       "    <tr>\n",
       "      <th>Google Cloud</th>\n",
       "      <td>0.273095</td>\n",
       "      <td>Google Cloud</td>\n",
       "    </tr>\n",
       "    <tr>\n",
       "      <th>Firebase</th>\n",
       "      <td>0.215347</td>\n",
       "      <td>Firebase</td>\n",
       "    </tr>\n",
       "    <tr>\n",
       "      <th>Heroku</th>\n",
       "      <td>0.203509</td>\n",
       "      <td>Heroku</td>\n",
       "    </tr>\n",
       "  </tbody>\n",
       "</table>\n",
       "</div>"
      ],
      "text/plain": [
       "                   is2022         platform\n",
       "AWS              0.519570              AWS\n",
       "Microsoft Azure  0.292525  Microsoft Azure\n",
       "Google Cloud     0.273095     Google Cloud\n",
       "Firebase         0.215347         Firebase\n",
       "Heroku           0.203509           Heroku"
      ]
     },
     "execution_count": 178,
     "metadata": {},
     "output_type": "execute_result"
    }
   ],
   "source": [
    "\n"
   ]
  },
  {
   "cell_type": "code",
   "execution_count": 153,
   "id": "06bc6bb6",
   "metadata": {},
   "outputs": [
    {
     "data": {
      "text/plain": [
       "((7, 2), (14, 2))"
      ]
     },
     "execution_count": 153,
     "metadata": {},
     "output_type": "execute_result"
    }
   ],
   "source": [
    "propC2021_df.shape,propC2022_df.shape"
   ]
  },
  {
   "cell_type": "code",
   "execution_count": 154,
   "id": "aac172ab",
   "metadata": {},
   "outputs": [
    {
     "data": {
      "text/plain": [
       "array(['AWS', 'Google Cloud Platform', 'Microsoft Azure', 'Heroku',\n",
       "       'DigitalOcean', 'IBM Cloud or Watson',\n",
       "       'Oracle Cloud Infrastructure'], dtype=object)"
      ]
     },
     "execution_count": 154,
     "metadata": {},
     "output_type": "execute_result"
    }
   ],
   "source": [
    "propC2021_df['platform'].unique()"
   ]
  },
  {
   "cell_type": "code",
   "execution_count": 155,
   "id": "4e17700f",
   "metadata": {},
   "outputs": [
    {
     "data": {
      "text/plain": [
       "array(['AWS', 'Microsoft Azure', 'Google Cloud', 'Firebase', 'Heroku',\n",
       "       'DigitalOcean', 'VMware', 'Managed Hosting', 'Linode', 'OVH',\n",
       "       'Oracle Cloud Infrastructure', 'OpenStack', 'IBM Cloud or Watson',\n",
       "       'Colocation'], dtype=object)"
      ]
     },
     "execution_count": 155,
     "metadata": {},
     "output_type": "execute_result"
    }
   ],
   "source": [
    "propC2022_df['platform'].unique()"
   ]
  },
  {
   "cell_type": "code",
   "execution_count": 156,
   "id": "6e15b11e",
   "metadata": {},
   "outputs": [],
   "source": [
    "used_platforms = propC2021_df.merge(propC2022_df, on=['platform'])"
   ]
  },
  {
   "cell_type": "code",
   "execution_count": 157,
   "id": "82e7104f",
   "metadata": {},
   "outputs": [],
   "source": [
    "used_platforms_melt=pd.melt(used_platforms , id_vars='platform', value_vars=['is2021', 'is2022'],var_name='year',\n",
    "value_name='value')"
   ]
  },
  {
   "cell_type": "code",
   "execution_count": null,
   "id": "5e7650ee",
   "metadata": {},
   "outputs": [],
   "source": []
  },
  {
   "cell_type": "code",
   "execution_count": 158,
   "id": "3a8420ec",
   "metadata": {},
   "outputs": [
    {
     "name": "stdout",
     "output_type": "stream",
     "text": [
      "                       platform    year     value\n",
      "0                           AWS  is2021  0.558895\n",
      "1               Microsoft Azure  is2021  0.317253\n",
      "2                        Heroku  is2021  0.247377\n",
      "3                  DigitalOcean  is2021  0.182123\n",
      "4           IBM Cloud or Watson  is2021  0.026335\n",
      "5   Oracle Cloud Infrastructure  is2021  0.019450\n",
      "6                           AWS  is2022  0.519570\n",
      "7               Microsoft Azure  is2022  0.292525\n",
      "8                        Heroku  is2022  0.203509\n",
      "9                  DigitalOcean  is2022  0.159302\n",
      "10          IBM Cloud or Watson  is2022  0.017086\n",
      "11  Oracle Cloud Infrastructure  is2022  0.022234\n"
     ]
    }
   ],
   "source": [
    "plat = ['AWS','Microsoft Azure','Heroku','DigitalOcean','IBM Cloud or Watson','Oracle Cloud Infrastructure']\n",
    "plat\n",
    "\n",
    "print(used_platforms_melt)"
   ]
  },
  {
   "cell_type": "code",
   "execution_count": 159,
   "id": "5a0371b8",
   "metadata": {},
   "outputs": [
    {
     "data": {
      "text/plain": [
       "<AxesSubplot:xlabel='year', ylabel='value'>"
      ]
     },
     "execution_count": 159,
     "metadata": {},
     "output_type": "execute_result"
    },
    {
     "data": {
      "image/png": "[encoded data removed]",
      "text/plain": [
       "<Figure size 640x480 with 1 Axes>"
      ]
     },
     "metadata": {},
     "output_type": "display_data"
    }
   ],
   "source": [
    "sns.pointplot(data=used_platforms_melt, x=\"year\", y=\"value\", hue=\"platform\")"
   ]
  },
  {
   "cell_type": "code",
   "execution_count": null,
   "id": "c32cc486",
   "metadata": {},
   "outputs": [],
   "source": []
  },
  {
   "cell_type": "code",
   "execution_count": 128,
   "id": "18de2c17",
   "metadata": {},
   "outputs": [],
   "source": []
  },
  {
   "cell_type": "code",
   "execution_count": 161,
   "id": "ac6b0694",
   "metadata": {},
   "outputs": [
    {
     "data": {
      "text/html": [
       "<div>\n",
       "<style scoped>\n",
       "    .dataframe tbody tr th:only-of-type {\n",
       "        vertical-align: middle;\n",
       "    }\n",
       "\n",
       "    .dataframe tbody tr th {\n",
       "        vertical-align: top;\n",
       "    }\n",
       "\n",
       "    .dataframe thead th {\n",
       "        text-align: right;\n",
       "    }\n",
       "</style>\n",
       "<table border=\"1\" class=\"dataframe\">\n",
       "  <thead>\n",
       "    <tr style=\"text-align: right;\">\n",
       "      <th></th>\n",
       "      <th>want2021</th>\n",
       "      <th>platform</th>\n",
       "    </tr>\n",
       "  </thead>\n",
       "  <tbody>\n",
       "    <tr>\n",
       "      <th>AWS</th>\n",
       "      <td>0.650625</td>\n",
       "      <td>AWS</td>\n",
       "    </tr>\n",
       "    <tr>\n",
       "      <th>Google Cloud Platform</th>\n",
       "      <td>0.401534</td>\n",
       "      <td>Google Cloud Platform</td>\n",
       "    </tr>\n",
       "    <tr>\n",
       "      <th>Microsoft Azure</th>\n",
       "      <td>0.373525</td>\n",
       "      <td>Microsoft Azure</td>\n",
       "    </tr>\n",
       "    <tr>\n",
       "      <th>DigitalOcean</th>\n",
       "      <td>0.214623</td>\n",
       "      <td>DigitalOcean</td>\n",
       "    </tr>\n",
       "    <tr>\n",
       "      <th>Heroku</th>\n",
       "      <td>0.202450</td>\n",
       "      <td>Heroku</td>\n",
       "    </tr>\n",
       "  </tbody>\n",
       "</table>\n",
       "</div>"
      ],
      "text/plain": [
       "                       want2021               platform\n",
       "AWS                    0.650625                    AWS\n",
       "Google Cloud Platform  0.401534  Google Cloud Platform\n",
       "Microsoft Azure        0.373525        Microsoft Azure\n",
       "DigitalOcean           0.214623           DigitalOcean\n",
       "Heroku                 0.202450                 Heroku"
      ]
     },
     "execution_count": 161,
     "metadata": {},
     "output_type": "execute_result"
    }
   ],
   "source": []
  },
  {
   "cell_type": "code",
   "execution_count": 162,
   "id": "d53617bd",
   "metadata": {},
   "outputs": [
    {
     "data": {
      "text/html": [
       "<div>\n",
       "<style scoped>\n",
       "    .dataframe tbody tr th:only-of-type {\n",
       "        vertical-align: middle;\n",
       "    }\n",
       "\n",
       "    .dataframe tbody tr th {\n",
       "        vertical-align: top;\n",
       "    }\n",
       "\n",
       "    .dataframe thead th {\n",
       "        text-align: right;\n",
       "    }\n",
       "</style>\n",
       "<table border=\"1\" class=\"dataframe\">\n",
       "  <thead>\n",
       "    <tr style=\"text-align: right;\">\n",
       "      <th></th>\n",
       "      <th>want2022</th>\n",
       "      <th>platform</th>\n",
       "    </tr>\n",
       "  </thead>\n",
       "  <tbody>\n",
       "    <tr>\n",
       "      <th>AWS</th>\n",
       "      <td>0.586441</td>\n",
       "      <td>AWS</td>\n",
       "    </tr>\n",
       "    <tr>\n",
       "      <th>Google Cloud</th>\n",
       "      <td>0.331412</td>\n",
       "      <td>Google Cloud</td>\n",
       "    </tr>\n",
       "    <tr>\n",
       "      <th>Microsoft Azure</th>\n",
       "      <td>0.316343</td>\n",
       "      <td>Microsoft Azure</td>\n",
       "    </tr>\n",
       "    <tr>\n",
       "      <th>Firebase</th>\n",
       "      <td>0.213856</td>\n",
       "      <td>Firebase</td>\n",
       "    </tr>\n",
       "    <tr>\n",
       "      <th>DigitalOcean</th>\n",
       "      <td>0.172782</td>\n",
       "      <td>DigitalOcean</td>\n",
       "    </tr>\n",
       "  </tbody>\n",
       "</table>\n",
       "</div>"
      ],
      "text/plain": [
       "                 want2022         platform\n",
       "AWS              0.586441              AWS\n",
       "Google Cloud     0.331412     Google Cloud\n",
       "Microsoft Azure  0.316343  Microsoft Azure\n",
       "Firebase         0.213856         Firebase\n",
       "DigitalOcean     0.172782     DigitalOcean"
      ]
     },
     "execution_count": 162,
     "metadata": {},
     "output_type": "execute_result"
    }
   ],
   "source": []
  },
  {
   "cell_type": "code",
   "execution_count": 163,
   "id": "6fce72ef",
   "metadata": {},
   "outputs": [
    {
     "data": {
      "text/plain": [
       "((7, 2), (14, 2))"
      ]
     },
     "execution_count": 163,
     "metadata": {},
     "output_type": "execute_result"
    }
   ],
   "source": [
    "propW2021_df.shape,propW2022_df.shape"
   ]
  },
  {
   "cell_type": "code",
   "execution_count": null,
   "id": "24f10f8f",
   "metadata": {},
   "outputs": [],
   "source": []
  },
  {
   "cell_type": "code",
   "execution_count": 164,
   "id": "ed2c024f",
   "metadata": {},
   "outputs": [
    {
     "data": {
      "text/html": [
       "<div>\n",
       "<style scoped>\n",
       "    .dataframe tbody tr th:only-of-type {\n",
       "        vertical-align: middle;\n",
       "    }\n",
       "\n",
       "    .dataframe tbody tr th {\n",
       "        vertical-align: top;\n",
       "    }\n",
       "\n",
       "    .dataframe thead th {\n",
       "        text-align: right;\n",
       "    }\n",
       "</style>\n",
       "<table border=\"1\" class=\"dataframe\">\n",
       "  <thead>\n",
       "    <tr style=\"text-align: right;\">\n",
       "      <th></th>\n",
       "      <th>want2021</th>\n",
       "      <th>platform</th>\n",
       "      <th>want2022</th>\n",
       "    </tr>\n",
       "  </thead>\n",
       "  <tbody>\n",
       "    <tr>\n",
       "      <th>0</th>\n",
       "      <td>0.650625</td>\n",
       "      <td>AWS</td>\n",
       "      <td>0.586441</td>\n",
       "    </tr>\n",
       "    <tr>\n",
       "      <th>1</th>\n",
       "      <td>0.373525</td>\n",
       "      <td>Microsoft Azure</td>\n",
       "      <td>0.316343</td>\n",
       "    </tr>\n",
       "    <tr>\n",
       "      <th>2</th>\n",
       "      <td>0.214623</td>\n",
       "      <td>DigitalOcean</td>\n",
       "      <td>0.172782</td>\n",
       "    </tr>\n",
       "    <tr>\n",
       "      <th>3</th>\n",
       "      <td>0.202450</td>\n",
       "      <td>Heroku</td>\n",
       "      <td>0.147247</td>\n",
       "    </tr>\n",
       "    <tr>\n",
       "      <th>4</th>\n",
       "      <td>0.043746</td>\n",
       "      <td>IBM Cloud or Watson</td>\n",
       "      <td>0.021972</td>\n",
       "    </tr>\n",
       "  </tbody>\n",
       "</table>\n",
       "</div>"
      ],
      "text/plain": [
       "   want2021             platform  want2022\n",
       "0  0.650625                  AWS  0.586441\n",
       "1  0.373525      Microsoft Azure  0.316343\n",
       "2  0.214623         DigitalOcean  0.172782\n",
       "3  0.202450               Heroku  0.147247\n",
       "4  0.043746  IBM Cloud or Watson  0.021972"
      ]
     },
     "execution_count": 164,
     "metadata": {},
     "output_type": "execute_result"
    }
   ],
   "source": [
    "want_platforms = propW2021_df.merge(propW2022_df, on=['platform'])\n",
    "want_platforms.head()"
   ]
  },
  {
   "cell_type": "code",
   "execution_count": 165,
   "id": "b3a84d01",
   "metadata": {},
   "outputs": [],
   "source": [
    "want_platforms_melt=pd.melt(want_platforms , id_vars='platform', value_vars=['want2021', 'want2022'],var_name='year',\n",
    "value_name='value')"
   ]
  },
  {
   "cell_type": "code",
   "execution_count": 166,
   "id": "739cb87a",
   "metadata": {},
   "outputs": [
    {
     "data": {
      "text/plain": [
       "<AxesSubplot:xlabel='year', ylabel='value'>"
      ]
     },
     "execution_count": 166,
     "metadata": {},
     "output_type": "execute_result"
    },
    {
     "data": {
      "image/png": "[encoded data removed]",
      "text/plain": [
       "<Figure size 640x480 with 1 Axes>"
      ]
     },
     "metadata": {},
     "output_type": "display_data"
    }
   ],
   "source": [
    "sns.pointplot(data=want_platforms_melt, x=\"year\", y=\"value\", hue=\"platform\")"
   ]
  },
  {
   "cell_type": "code",
   "execution_count": 167,
   "id": "6eaaa828",
   "metadata": {},
   "outputs": [],
   "source": [
    "#merging current and want\n"
   ]
  },
  {
   "cell_type": "code",
   "execution_count": 168,
   "id": "17da2c44",
   "metadata": {},
   "outputs": [
    {
     "data": {
      "text/html": [
       "<div>\n",
       "<style scoped>\n",
       "    .dataframe tbody tr th:only-of-type {\n",
       "        vertical-align: middle;\n",
       "    }\n",
       "\n",
       "    .dataframe tbody tr th {\n",
       "        vertical-align: top;\n",
       "    }\n",
       "\n",
       "    .dataframe thead th {\n",
       "        text-align: right;\n",
       "    }\n",
       "</style>\n",
       "<table border=\"1\" class=\"dataframe\">\n",
       "  <thead>\n",
       "    <tr style=\"text-align: right;\">\n",
       "      <th></th>\n",
       "      <th>want2021</th>\n",
       "      <th>platform</th>\n",
       "      <th>want2022</th>\n",
       "      <th>is2021</th>\n",
       "      <th>is2022</th>\n",
       "    </tr>\n",
       "  </thead>\n",
       "  <tbody>\n",
       "    <tr>\n",
       "      <th>0</th>\n",
       "      <td>0.650625</td>\n",
       "      <td>AWS</td>\n",
       "      <td>0.586441</td>\n",
       "      <td>0.558895</td>\n",
       "      <td>0.519570</td>\n",
       "    </tr>\n",
       "    <tr>\n",
       "      <th>1</th>\n",
       "      <td>0.373525</td>\n",
       "      <td>Microsoft Azure</td>\n",
       "      <td>0.316343</td>\n",
       "      <td>0.317253</td>\n",
       "      <td>0.292525</td>\n",
       "    </tr>\n",
       "    <tr>\n",
       "      <th>2</th>\n",
       "      <td>0.214623</td>\n",
       "      <td>DigitalOcean</td>\n",
       "      <td>0.172782</td>\n",
       "      <td>0.182123</td>\n",
       "      <td>0.159302</td>\n",
       "    </tr>\n",
       "    <tr>\n",
       "      <th>3</th>\n",
       "      <td>0.202450</td>\n",
       "      <td>Heroku</td>\n",
       "      <td>0.147247</td>\n",
       "      <td>0.247377</td>\n",
       "      <td>0.203509</td>\n",
       "    </tr>\n",
       "    <tr>\n",
       "      <th>4</th>\n",
       "      <td>0.043746</td>\n",
       "      <td>IBM Cloud or Watson</td>\n",
       "      <td>0.021972</td>\n",
       "      <td>0.026335</td>\n",
       "      <td>0.017086</td>\n",
       "    </tr>\n",
       "  </tbody>\n",
       "</table>\n",
       "</div>"
      ],
      "text/plain": [
       "   want2021             platform  want2022    is2021    is2022\n",
       "0  0.650625                  AWS  0.586441  0.558895  0.519570\n",
       "1  0.373525      Microsoft Azure  0.316343  0.317253  0.292525\n",
       "2  0.214623         DigitalOcean  0.172782  0.182123  0.159302\n",
       "3  0.202450               Heroku  0.147247  0.247377  0.203509\n",
       "4  0.043746  IBM Cloud or Watson  0.021972  0.026335  0.017086"
      ]
     },
     "execution_count": 168,
     "metadata": {},
     "output_type": "execute_result"
    }
   ],
   "source": [
    "platforms_all=want_platforms.merge(used_platforms, on=['platform'])\n",
    "platforms_all.head()"
   ]
  },
  {
   "cell_type": "code",
   "execution_count": 172,
   "id": "40e5277c",
   "metadata": {},
   "outputs": [
    {
     "data": {
      "text/html": [
       "<div>\n",
       "<style scoped>\n",
       "    .dataframe tbody tr th:only-of-type {\n",
       "        vertical-align: middle;\n",
       "    }\n",
       "\n",
       "    .dataframe tbody tr th {\n",
       "        vertical-align: top;\n",
       "    }\n",
       "\n",
       "    .dataframe thead th {\n",
       "        text-align: right;\n",
       "    }\n",
       "</style>\n",
       "<table border=\"1\" class=\"dataframe\">\n",
       "  <thead>\n",
       "    <tr style=\"text-align: right;\">\n",
       "      <th></th>\n",
       "      <th>platform</th>\n",
       "      <th>is2021</th>\n",
       "      <th>is2022</th>\n",
       "      <th>want</th>\n",
       "      <th>value</th>\n",
       "    </tr>\n",
       "  </thead>\n",
       "  <tbody>\n",
       "    <tr>\n",
       "      <th>0</th>\n",
       "      <td>AWS</td>\n",
       "      <td>0.558895</td>\n",
       "      <td>0.519570</td>\n",
       "      <td>want2021</td>\n",
       "      <td>0.650625</td>\n",
       "    </tr>\n",
       "    <tr>\n",
       "      <th>1</th>\n",
       "      <td>Microsoft Azure</td>\n",
       "      <td>0.317253</td>\n",
       "      <td>0.292525</td>\n",
       "      <td>want2021</td>\n",
       "      <td>0.373525</td>\n",
       "    </tr>\n",
       "    <tr>\n",
       "      <th>2</th>\n",
       "      <td>DigitalOcean</td>\n",
       "      <td>0.182123</td>\n",
       "      <td>0.159302</td>\n",
       "      <td>want2021</td>\n",
       "      <td>0.214623</td>\n",
       "    </tr>\n",
       "    <tr>\n",
       "      <th>3</th>\n",
       "      <td>Heroku</td>\n",
       "      <td>0.247377</td>\n",
       "      <td>0.203509</td>\n",
       "      <td>want2021</td>\n",
       "      <td>0.202450</td>\n",
       "    </tr>\n",
       "    <tr>\n",
       "      <th>4</th>\n",
       "      <td>IBM Cloud or Watson</td>\n",
       "      <td>0.026335</td>\n",
       "      <td>0.017086</td>\n",
       "      <td>want2021</td>\n",
       "      <td>0.043746</td>\n",
       "    </tr>\n",
       "  </tbody>\n",
       "</table>\n",
       "</div>"
      ],
      "text/plain": [
       "              platform    is2021    is2022      want     value\n",
       "0                  AWS  0.558895  0.519570  want2021  0.650625\n",
       "1      Microsoft Azure  0.317253  0.292525  want2021  0.373525\n",
       "2         DigitalOcean  0.182123  0.159302  want2021  0.214623\n",
       "3               Heroku  0.247377  0.203509  want2021  0.202450\n",
       "4  IBM Cloud or Watson  0.026335  0.017086  want2021  0.043746"
      ]
     },
     "execution_count": 172,
     "metadata": {},
     "output_type": "execute_result"
    }
   ],
   "source": [
    "platforms_all_meltwant=pd.melt(platforms_all , id_vars=['platform','is2021','is2022'], value_vars=['want2021','want2022'],var_name='want',\n",
    "value_name='value')\n",
    "platforms_all_meltwant.head()"
   ]
  },
  {
   "cell_type": "code",
   "execution_count": 175,
   "id": "d2bda77d",
   "metadata": {},
   "outputs": [
    {
     "name": "stderr",
     "output_type": "stream",
     "text": [
      "/var/folders/dd/nb8m5vwd1sz3_s49jh1plcfr0000gn/T/ipykernel_4458/2064371410.py:1: FutureWarning: This dataframe has a column name that matches the 'value_name' column name of the resulting Dataframe. In the future this will raise an error, please set the 'value_name' parameter of DataFrame.melt to a unique name.\n",
      "  platforms_all_meltiswant=pd.melt(platforms_all_meltwant , id_vars=['platform','want'], value_vars=['is2021','is2022'],var_name='is',\n"
     ]
    },
    {
     "data": {
      "text/html": [
       "<div>\n",
       "<style scoped>\n",
       "    .dataframe tbody tr th:only-of-type {\n",
       "        vertical-align: middle;\n",
       "    }\n",
       "\n",
       "    .dataframe tbody tr th {\n",
       "        vertical-align: top;\n",
       "    }\n",
       "\n",
       "    .dataframe thead th {\n",
       "        text-align: right;\n",
       "    }\n",
       "</style>\n",
       "<table border=\"1\" class=\"dataframe\">\n",
       "  <thead>\n",
       "    <tr style=\"text-align: right;\">\n",
       "      <th></th>\n",
       "      <th>platform</th>\n",
       "      <th>want</th>\n",
       "      <th>is</th>\n",
       "      <th>value</th>\n",
       "    </tr>\n",
       "  </thead>\n",
       "  <tbody>\n",
       "    <tr>\n",
       "      <th>0</th>\n",
       "      <td>AWS</td>\n",
       "      <td>want2021</td>\n",
       "      <td>is2021</td>\n",
       "      <td>0.558895</td>\n",
       "    </tr>\n",
       "    <tr>\n",
       "      <th>1</th>\n",
       "      <td>Microsoft Azure</td>\n",
       "      <td>want2021</td>\n",
       "      <td>is2021</td>\n",
       "      <td>0.317253</td>\n",
       "    </tr>\n",
       "    <tr>\n",
       "      <th>2</th>\n",
       "      <td>DigitalOcean</td>\n",
       "      <td>want2021</td>\n",
       "      <td>is2021</td>\n",
       "      <td>0.182123</td>\n",
       "    </tr>\n",
       "    <tr>\n",
       "      <th>3</th>\n",
       "      <td>Heroku</td>\n",
       "      <td>want2021</td>\n",
       "      <td>is2021</td>\n",
       "      <td>0.247377</td>\n",
       "    </tr>\n",
       "    <tr>\n",
       "      <th>4</th>\n",
       "      <td>IBM Cloud or Watson</td>\n",
       "      <td>want2021</td>\n",
       "      <td>is2021</td>\n",
       "      <td>0.026335</td>\n",
       "    </tr>\n",
       "  </tbody>\n",
       "</table>\n",
       "</div>"
      ],
      "text/plain": [
       "              platform      want      is     value\n",
       "0                  AWS  want2021  is2021  0.558895\n",
       "1      Microsoft Azure  want2021  is2021  0.317253\n",
       "2         DigitalOcean  want2021  is2021  0.182123\n",
       "3               Heroku  want2021  is2021  0.247377\n",
       "4  IBM Cloud or Watson  want2021  is2021  0.026335"
      ]
     },
     "execution_count": 175,
     "metadata": {},
     "output_type": "execute_result"
    }
   ],
   "source": []
  },
  {
   "cell_type": "code",
   "execution_count": 173,
   "id": "0a563862",
   "metadata": {},
   "outputs": [
    {
     "data": {
      "text/plain": [
       "<AxesSubplot:xlabel='year', ylabel='value'>"
      ]
     },
     "execution_count": 173,
     "metadata": {},
     "output_type": "execute_result"
    },
    {
     "data": {
      "image/png": "[encoded data removed]",
      "text/plain": [
       "<Figure size 640x480 with 1 Axes>"
      ]
     },
     "metadata": {},
     "output_type": "display_data"
    }
   ],
   "source": [
    "sns.pointplot(data=platforms_all_melt, x=\"year\", y=\"value\", hue=\"platform\")"
   ]
  },
  {
   "cell_type": "code",
   "execution_count": null,
   "id": "bf3eaa2d",
   "metadata": {},
   "outputs": [],
   "source": []
  },
  {
   "cell_type": "code",
   "execution_count": null,
   "id": "3c7f7234",
   "metadata": {},
   "outputs": [],
   "source": []
  },
  {
   "cell_type": "code",
   "execution_count": null,
   "id": "21aaaa7f",
   "metadata": {},
   "outputs": [],
   "source": []
  },
  {
   "cell_type": "code",
   "execution_count": null,
   "id": "026ba50e",
   "metadata": {},
   "outputs": [],
   "source": []
  },
  {
   "cell_type": "code",
   "execution_count": null,
   "id": "46534293",
   "metadata": {},
   "outputs": [],
   "source": []
  },
  {
   "cell_type": "code",
   "execution_count": 85,
   "id": "b0b4132e",
   "metadata": {},
   "outputs": [
    {
     "ename": "TypeError",
     "evalue": "can only concatenate str (not \"float\") to str",
     "output_type": "error",
     "traceback": [
      "\u001b[0;31m---------------------------------------------------------------------------\u001b[0m",
      "\u001b[0;31mTypeError\u001b[0m                                 Traceback (most recent call last)",
      "\u001b[0;32m/var/folders/dd/nb8m5vwd1sz3_s49jh1plcfr0000gn/T/ipykernel_4458/1462432354.py\u001b[0m in \u001b[0;36m<module>\u001b[0;34m\u001b[0m\n\u001b[1;32m      9\u001b[0m         \u001b[0mi\u001b[0m \u001b[0;34m=\u001b[0m \u001b[0;34m'Oracle'\u001b[0m\u001b[0;34m\u001b[0m\u001b[0;34m\u001b[0m\u001b[0m\n\u001b[1;32m     10\u001b[0m     \u001b[0;31m# end label\u001b[0m\u001b[0;34m\u001b[0m\u001b[0;34m\u001b[0m\u001b[0m\n\u001b[0;32m---> 11\u001b[0;31m     \u001b[0mplt\u001b[0m\u001b[0;34m.\u001b[0m\u001b[0mtext\u001b[0m\u001b[0;34m(\u001b[0m\u001b[0mtemp\u001b[0m\u001b[0;34m.\u001b[0m\u001b[0myear\u001b[0m\u001b[0;34m.\u001b[0m\u001b[0mvalues\u001b[0m\u001b[0;34m[\u001b[0m\u001b[0;36m0\u001b[0m\u001b[0;34m]\u001b[0m\u001b[0;34m+\u001b[0m\u001b[0;36m0.5\u001b[0m\u001b[0;34m,\u001b[0m \u001b[0mtemp\u001b[0m\u001b[0;34m.\u001b[0m\u001b[0mvalue\u001b[0m\u001b[0;34m.\u001b[0m\u001b[0mvalues\u001b[0m\u001b[0;34m[\u001b[0m\u001b[0;36m0\u001b[0m\u001b[0;34m]\u001b[0m\u001b[0;34m,\u001b[0m \u001b[0mi\u001b[0m\u001b[0;34m)\u001b[0m\u001b[0;34m\u001b[0m\u001b[0;34m\u001b[0m\u001b[0m\n\u001b[0m\u001b[1;32m     12\u001b[0m     \u001b[0;31m# start label\u001b[0m\u001b[0;34m\u001b[0m\u001b[0;34m\u001b[0m\u001b[0m\n\u001b[1;32m     13\u001b[0m     \u001b[0mplt\u001b[0m\u001b[0;34m.\u001b[0m\u001b[0mtext\u001b[0m\u001b[0;34m(\u001b[0m\u001b[0mtemp\u001b[0m\u001b[0;34m.\u001b[0m\u001b[0myear\u001b[0m\u001b[0;34m.\u001b[0m\u001b[0mvalues\u001b[0m\u001b[0;34m[\u001b[0m\u001b[0;36m1\u001b[0m\u001b[0;34m]\u001b[0m\u001b[0;34m-\u001b[0m\u001b[0;36m0.5\u001b[0m\u001b[0;34m,\u001b[0m \u001b[0mtemp\u001b[0m\u001b[0;34m.\u001b[0m\u001b[0mvalue\u001b[0m\u001b[0;34m.\u001b[0m\u001b[0mvalues\u001b[0m\u001b[0;34m[\u001b[0m\u001b[0;36m1\u001b[0m\u001b[0;34m]\u001b[0m\u001b[0;34m,\u001b[0m \u001b[0mi\u001b[0m\u001b[0;34m,\u001b[0m \u001b[0mha\u001b[0m\u001b[0;34m=\u001b[0m\u001b[0;34m'right'\u001b[0m\u001b[0;34m)\u001b[0m\u001b[0;34m\u001b[0m\u001b[0;34m\u001b[0m\u001b[0m\n",
      "\u001b[0;31mTypeError\u001b[0m: can only concatenate str (not \"float\") to str"
     ]
    },
    {
     "data": {
      "image/png": "[encoded data removed]",
      "text/plain": [
       "<Figure size 640x480 with 1 Axes>"
      ]
     },
     "metadata": {},
     "output_type": "display_data"
    }
   ],
   "source": [
    "plat = ['AWS','Microsoft Azure','Heroku','DigitalOcean','IBM Cloud or Watson','Oracle Cloud Infrastructure']\n",
    "for i in plat:\n",
    "    # get a single country from the list\n",
    "    temp = used_platforms_melt[used_platforms_melt['platform'] == i]\n",
    "    # plot the lines\n",
    "    plt.plot(temp.year, temp.value, marker='o', markersize=5)\n",
    "    # replace large labels\n",
    "    if i == 'Oracle Cloud Infrastructure':\n",
    "        i = 'Oracle'\n",
    "    # end label\n",
    "    plt.text(temp.year.values[0]+0.5, temp.value.values[0], i)\n",
    "    # start label\n",
    "    plt.text(temp.year.values[1]-0.5, temp.value.values[1], i, ha='right')\n",
    "    \n",
    "# x limits, x ticks, and y label \n",
    "plt.xlim(2020.5,2022.5)\n",
    "plt.xticks([2021, 2022])\n",
    "# get y ticks, replace 1,000 with k, and draw the ticks\n",
    "yticks = plt.yticks()[0]\n",
    "plt.yticks(yticks, ['{}k'.format(i/1000) for i in yticks])\n",
    "plt.show()"
   ]
  },
  {
   "cell_type": "code",
   "execution_count": null,
   "id": "fcc8312d",
   "metadata": {},
   "outputs": [],
   "source": []
  },
  {
   "cell_type": "code",
   "execution_count": null,
   "id": "f351f563",
   "metadata": {},
   "outputs": [],
   "source": []
  },
  {
   "cell_type": "code",
   "execution_count": null,
   "id": "e4596b0a",
   "metadata": {},
   "outputs": [],
   "source": []
  },
  {
   "cell_type": "markdown",
   "id": "d6be2116",
   "metadata": {},
   "source": [
    "Columns I will use for my questions:\n",
    "    - MainBranch\n",
    "    - DevType\n",
    "    -\n",
    "\n",
    "For df2021: 'DatabaseDesireNextYear', 'DatabaseWorkedWith',\n",
    "    'LanguageDesireNextYear', 'LanguageWorkedWith',\n",
    "       'MiscTechDesireNextYear', 'MiscTechWorkedWith','PlatformDesireNextYear',\n",
    "       'PlatformWorkedWith','WebframeDesireNextYear',\n",
    "       'WebframeWorkedWith','ConvertedCompYearly'\n",
    "       \n",
    "Fordf2022: 'LanguageHaveWorkedWith',\n",
    "       'LanguageWantToWorkWith', 'DatabaseHaveWorkedWith',\n",
    "       'DatabaseWantToWorkWith', 'PlatformHaveWorkedWith',\n",
    "       'PlatformWantToWorkWith', 'WebframeHaveWorkedWith',\n",
    "       'WebframeWantToWorkWith', 'MiscTechHaveWorkedWith',\n",
    "       'MiscTechWantToWorkWith','ConvertedCompYearly'\n",
    "       \n",
    "       \n",
    " "
   ]
  }
 ],
 "metadata": {
  "kernelspec": {
   "display_name": "Python 3 (ipykernel)",
   "language": "python",
   "name": "python3"
  },
  "language_info": {
   "codemirror_mode": {
    "name": "ipython",
    "version": 3
   },
   "file_extension": ".py",
   "mimetype": "text/x-python",
   "name": "python",
   "nbconvert_exporter": "python",
   "pygments_lexer": "ipython3",
   "version": "3.9.13"
  }
 },
 "nbformat": 4,
 "nbformat_minor": 5
}
